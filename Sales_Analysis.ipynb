{
 "cells": [
  {
   "cell_type": "code",
   "execution_count": 1,
   "id": "b9c63625-3822-449f-a60c-fac42cc7adcd",
   "metadata": {},
   "outputs": [],
   "source": [
    "#import libraries\n",
    "import pandas as pd\n",
    "import numpy as np\n",
    "import matplotlib.pyplot as plt\n",
    "import seaborn as sns\n",
    "%matplotlib inline"
   ]
  },
  {
   "cell_type": "code",
   "execution_count": 2,
   "id": "1dc67656-c86f-461b-afe3-53509032fc8c",
   "metadata": {},
   "outputs": [],
   "source": [
    "# Importing Dataset\n",
    "\n",
    "df = pd.read_excel('1673872777_ausapparalsales4thqrt2020.xlsx')"
   ]
  },
  {
   "cell_type": "code",
   "execution_count": null,
   "id": "4d579886-242f-4c0a-93a6-0b77d9735855",
   "metadata": {},
   "outputs": [],
   "source": [
    "1. Data Wrangling"
   ]
  },
  {
   "cell_type": "code",
   "execution_count": 64,
   "id": "9aed0b90-c9d0-4f69-85f5-743ce8f3f65b",
   "metadata": {},
   "outputs": [
    {
     "data": {
      "text/html": [
       "<div>\n",
       "<style scoped>\n",
       "    .dataframe tbody tr th:only-of-type {\n",
       "        vertical-align: middle;\n",
       "    }\n",
       "\n",
       "    .dataframe tbody tr th {\n",
       "        vertical-align: top;\n",
       "    }\n",
       "\n",
       "    .dataframe thead th {\n",
       "        text-align: right;\n",
       "    }\n",
       "</style>\n",
       "<table border=\"1\" class=\"dataframe\">\n",
       "  <thead>\n",
       "    <tr style=\"text-align: right;\">\n",
       "      <th></th>\n",
       "      <th>Date</th>\n",
       "      <th>Time</th>\n",
       "      <th>State</th>\n",
       "      <th>Group</th>\n",
       "      <th>Unit</th>\n",
       "      <th>Sales</th>\n",
       "    </tr>\n",
       "  </thead>\n",
       "  <tbody>\n",
       "    <tr>\n",
       "      <th>0</th>\n",
       "      <td>2020-10-01</td>\n",
       "      <td>Morning</td>\n",
       "      <td>WA</td>\n",
       "      <td>Kids</td>\n",
       "      <td>8</td>\n",
       "      <td>20000</td>\n",
       "    </tr>\n",
       "    <tr>\n",
       "      <th>1</th>\n",
       "      <td>2020-10-01</td>\n",
       "      <td>Morning</td>\n",
       "      <td>WA</td>\n",
       "      <td>Men</td>\n",
       "      <td>8</td>\n",
       "      <td>20000</td>\n",
       "    </tr>\n",
       "    <tr>\n",
       "      <th>2</th>\n",
       "      <td>2020-10-01</td>\n",
       "      <td>Morning</td>\n",
       "      <td>WA</td>\n",
       "      <td>Women</td>\n",
       "      <td>4</td>\n",
       "      <td>10000</td>\n",
       "    </tr>\n",
       "    <tr>\n",
       "      <th>3</th>\n",
       "      <td>2020-10-01</td>\n",
       "      <td>Morning</td>\n",
       "      <td>WA</td>\n",
       "      <td>Seniors</td>\n",
       "      <td>15</td>\n",
       "      <td>37500</td>\n",
       "    </tr>\n",
       "    <tr>\n",
       "      <th>4</th>\n",
       "      <td>2020-10-01</td>\n",
       "      <td>Afternoon</td>\n",
       "      <td>WA</td>\n",
       "      <td>Kids</td>\n",
       "      <td>3</td>\n",
       "      <td>7500</td>\n",
       "    </tr>\n",
       "  </tbody>\n",
       "</table>\n",
       "</div>"
      ],
      "text/plain": [
       "        Date        Time State     Group  Unit  Sales\n",
       "0 2020-10-01     Morning    WA      Kids     8  20000\n",
       "1 2020-10-01     Morning    WA       Men     8  20000\n",
       "2 2020-10-01     Morning    WA     Women     4  10000\n",
       "3 2020-10-01     Morning    WA   Seniors    15  37500\n",
       "4 2020-10-01   Afternoon    WA      Kids     3   7500"
      ]
     },
     "execution_count": 64,
     "metadata": {},
     "output_type": "execute_result"
    }
   ],
   "source": [
    "df.head()"
   ]
  },
  {
   "cell_type": "code",
   "execution_count": 6,
   "id": "b03c9941-4649-4a38-8dc4-fb5ef87454ac",
   "metadata": {},
   "outputs": [
    {
     "name": "stdout",
     "output_type": "stream",
     "text": [
      "<class 'pandas.core.frame.DataFrame'>\n",
      "RangeIndex: 7560 entries, 0 to 7559\n",
      "Data columns (total 6 columns):\n",
      " #   Column  Non-Null Count  Dtype         \n",
      "---  ------  --------------  -----         \n",
      " 0   Date    7560 non-null   datetime64[ns]\n",
      " 1   Time    7560 non-null   object        \n",
      " 2   State   7560 non-null   object        \n",
      " 3   Group   7560 non-null   object        \n",
      " 4   Unit    7560 non-null   int64         \n",
      " 5   Sales   7560 non-null   int64         \n",
      "dtypes: datetime64[ns](1), int64(2), object(3)\n",
      "memory usage: 354.5+ KB\n"
     ]
    }
   ],
   "source": [
    "df.info()"
   ]
  },
  {
   "cell_type": "code",
   "execution_count": 7,
   "id": "24c07cc4-e484-42d1-a1c6-50684f9718df",
   "metadata": {},
   "outputs": [
    {
     "data": {
      "text/plain": [
       "(7560, 6)"
      ]
     },
     "execution_count": 7,
     "metadata": {},
     "output_type": "execute_result"
    }
   ],
   "source": [
    "df.shape"
   ]
  },
  {
   "cell_type": "code",
   "execution_count": 9,
   "id": "0642786f-55ee-4ca4-b8fa-52aa9ed00286",
   "metadata": {},
   "outputs": [
    {
     "name": "stdout",
     "output_type": "stream",
     "text": [
      "Missing Values:\n",
      "Date     0\n",
      "Time     0\n",
      "State    0\n",
      "Group    0\n",
      "Unit     0\n",
      "Sales    0\n",
      "dtype: int64\n"
     ]
    }
   ],
   "source": [
    "# 1.1 Missing Values\n",
    "\n",
    "# Check for missing values\n",
    "missing_values = df.isna().sum()\n",
    "\n",
    "# Check for non-missing values\n",
    "non_missing_values = df.notna().sum()\n",
    "\n",
    "# Display the results\n",
    "print(\"Missing Values:\")\n",
    "print(missing_values)"
   ]
  },
  {
   "cell_type": "code",
   "execution_count": null,
   "id": "039fbd10-ee99-4d10-8886-e2cef263a955",
   "metadata": {},
   "outputs": [],
   "source": [
    "Since there no missing values, no need to treat or modify it any further."
   ]
  },
  {
   "cell_type": "code",
   "execution_count": 12,
   "id": "10e7f61d-04bd-4bdb-a521-ee7f14a960e0",
   "metadata": {},
   "outputs": [
    {
     "name": "stdout",
     "output_type": "stream",
     "text": [
      "Duplicate Rows:\n",
      "Empty DataFrame\n",
      "Columns: [Date, Time, State, Group, Unit, Sales]\n",
      "Index: []\n"
     ]
    }
   ],
   "source": [
    "# Checking for Duplicates\n",
    "\n",
    "# Check for duplicates\n",
    "duplicates = df[df.duplicated()]\n",
    "\n",
    "# Display the duplicates (if any)\n",
    "print(\"Duplicate Rows:\")\n",
    "print(duplicates)"
   ]
  },
  {
   "cell_type": "code",
   "execution_count": 16,
   "id": "adff7080-29ea-4634-ad81-3d62604c3d66",
   "metadata": {},
   "outputs": [
    {
     "data": {
      "text/html": [
       "<div>\n",
       "<style scoped>\n",
       "    .dataframe tbody tr th:only-of-type {\n",
       "        vertical-align: middle;\n",
       "    }\n",
       "\n",
       "    .dataframe tbody tr th {\n",
       "        vertical-align: top;\n",
       "    }\n",
       "\n",
       "    .dataframe thead th {\n",
       "        text-align: right;\n",
       "    }\n",
       "</style>\n",
       "<table border=\"1\" class=\"dataframe\">\n",
       "  <thead>\n",
       "    <tr style=\"text-align: right;\">\n",
       "      <th></th>\n",
       "      <th>Unit</th>\n",
       "      <th>Sales</th>\n",
       "    </tr>\n",
       "  </thead>\n",
       "  <tbody>\n",
       "    <tr>\n",
       "      <th>0</th>\n",
       "      <td>0.095238</td>\n",
       "      <td>0.095238</td>\n",
       "    </tr>\n",
       "    <tr>\n",
       "      <th>1</th>\n",
       "      <td>0.095238</td>\n",
       "      <td>0.095238</td>\n",
       "    </tr>\n",
       "    <tr>\n",
       "      <th>2</th>\n",
       "      <td>0.031746</td>\n",
       "      <td>0.031746</td>\n",
       "    </tr>\n",
       "    <tr>\n",
       "      <th>3</th>\n",
       "      <td>0.206349</td>\n",
       "      <td>0.206349</td>\n",
       "    </tr>\n",
       "    <tr>\n",
       "      <th>4</th>\n",
       "      <td>0.015873</td>\n",
       "      <td>0.015873</td>\n",
       "    </tr>\n",
       "    <tr>\n",
       "      <th>...</th>\n",
       "      <td>...</td>\n",
       "      <td>...</td>\n",
       "    </tr>\n",
       "    <tr>\n",
       "      <th>7555</th>\n",
       "      <td>0.190476</td>\n",
       "      <td>0.190476</td>\n",
       "    </tr>\n",
       "    <tr>\n",
       "      <th>7556</th>\n",
       "      <td>0.206349</td>\n",
       "      <td>0.206349</td>\n",
       "    </tr>\n",
       "    <tr>\n",
       "      <th>7557</th>\n",
       "      <td>0.206349</td>\n",
       "      <td>0.206349</td>\n",
       "    </tr>\n",
       "    <tr>\n",
       "      <th>7558</th>\n",
       "      <td>0.142857</td>\n",
       "      <td>0.142857</td>\n",
       "    </tr>\n",
       "    <tr>\n",
       "      <th>7559</th>\n",
       "      <td>0.174603</td>\n",
       "      <td>0.174603</td>\n",
       "    </tr>\n",
       "  </tbody>\n",
       "</table>\n",
       "<p>7560 rows × 2 columns</p>\n",
       "</div>"
      ],
      "text/plain": [
       "          Unit     Sales\n",
       "0     0.095238  0.095238\n",
       "1     0.095238  0.095238\n",
       "2     0.031746  0.031746\n",
       "3     0.206349  0.206349\n",
       "4     0.015873  0.015873\n",
       "...        ...       ...\n",
       "7555  0.190476  0.190476\n",
       "7556  0.206349  0.206349\n",
       "7557  0.206349  0.206349\n",
       "7558  0.142857  0.142857\n",
       "7559  0.174603  0.174603\n",
       "\n",
       "[7560 rows x 2 columns]"
      ]
     },
     "execution_count": 16,
     "metadata": {},
     "output_type": "execute_result"
    }
   ],
   "source": [
    "# 1.3 Normalizing the data\n",
    "\n",
    "from sklearn.preprocessing import MinMaxScaler\n",
    "\n",
    "# Assuming 'df' is your DataFrame\n",
    "numeric_columns = df.select_dtypes(include=['float64', 'int64']).columns\n",
    "\n",
    "scaler = MinMaxScaler()\n",
    "df[numeric_columns] = scaler.fit_transform(df[numeric_columns])\n",
    "df[numeric_columns]"
   ]
  },
  {
   "cell_type": "code",
   "execution_count": 15,
   "id": "01c9702c-22f2-4115-bae9-3be7f182a599",
   "metadata": {},
   "outputs": [
    {
     "name": "stdout",
     "output_type": "stream",
     "text": [
      "Group by State and Sales:\n",
      "State\n",
      " NSW    441.714286\n",
      " NT     109.079365\n",
      " QLD    177.888889\n",
      " SA     339.412698\n",
      " TAS    110.222222\n",
      " VIC    635.968254\n",
      " WA     106.365079\n",
      "Name: Sales, dtype: float64\n",
      "\n",
      "Group by Group and Sales:\n",
      "Group\n",
      " Kids       480.142857\n",
      " Men        484.444444\n",
      " Seniors    473.571429\n",
      " Women      482.492063\n",
      "Name: Sales, dtype: float64\n"
     ]
    }
   ],
   "source": [
    "# 1.4 Share your recommendation on the usage of the groupby() function for data chunking or merging.\n",
    "# Group by 'State' and calculate the sum of 'Sales'\n",
    "state_sales_group = df.groupby('State')['Sales'].sum()\n",
    "\n",
    "# Group by 'Group' and calculate the sum of 'Sales'\n",
    "group_sales_group = df.groupby('Group')['Sales'].sum()\n",
    "\n",
    "# Display the results\n",
    "print(\"Group by State and Sales:\")\n",
    "print(state_sales_group)\n",
    "\n",
    "print(\"\\nGroup by Group and Sales:\")\n",
    "print(group_sales_group)"
   ]
  },
  {
   "cell_type": "code",
   "execution_count": null,
   "id": "47126ffd-9c96-4cdc-8262-91a96b41b531",
   "metadata": {},
   "outputs": [],
   "source": [
    "2. Data Analysis"
   ]
  },
  {
   "cell_type": "code",
   "execution_count": 4,
   "id": "3aa3b424-e816-46de-8fcb-67eb714b61f2",
   "metadata": {},
   "outputs": [
    {
     "name": "stdout",
     "output_type": "stream",
     "text": [
      "Descriptive Statistics for Sales and Unit:\n",
      "               Sales         Unit\n",
      "count    7560.000000  7560.000000\n",
      "mean    45013.558201    18.005423\n",
      "std     32253.506944    12.901403\n",
      "min      5000.000000     2.000000\n",
      "25%     20000.000000     8.000000\n",
      "50%     35000.000000    14.000000\n",
      "75%     65000.000000    26.000000\n",
      "max    162500.000000    65.000000\n"
     ]
    }
   ],
   "source": [
    "# 2.1 Perform descriptive statistical analysis on the data (Sales and Unit columns)\n",
    "\n",
    "# Descriptive statistics for 'Sales' and 'Unit' columns\n",
    "sales_unit_stats = df[['Sales', 'Unit']].describe()\n",
    "\n",
    "# Display the results\n",
    "print(\"Descriptive Statistics for Sales and Unit:\")\n",
    "print(sales_unit_stats)"
   ]
  },
  {
   "cell_type": "code",
   "execution_count": 9,
   "id": "a54c0c1c-f2af-4c73-9ba4-772e6da74d0e",
   "metadata": {},
   "outputs": [
    {
     "name": "stdout",
     "output_type": "stream",
     "text": [
      "\n",
      "Mode for Sales:\n",
      "0    22500\n",
      "Name: Sales, dtype: int64\n",
      "\n",
      "Mode for Unit:\n",
      "0    9\n",
      "Name: Unit, dtype: int64\n"
     ]
    }
   ],
   "source": [
    "# Mode for 'Sales' and 'Unit' columns\n",
    "sales_mode = df['Sales'].mode()\n",
    "unit_mode = df['Unit'].mode()\n",
    "\n",
    "# Display the mode\n",
    "print(\"\\nMode for Sales:\")\n",
    "print(sales_mode)\n",
    "\n",
    "print(\"\\nMode for Unit:\")\n",
    "print(unit_mode)"
   ]
  },
  {
   "cell_type": "code",
   "execution_count": 20,
   "id": "4636f223-07c4-419a-ae8b-b2dcedb71d48",
   "metadata": {},
   "outputs": [
    {
     "name": "stdout",
     "output_type": "stream",
     "text": [
      "Group with the Highest Sales:\n",
      "Group:  Men\n",
      "Sales: 484.44444444444446\n",
      "\n",
      "Group with the Lowest Sales:\n",
      "Group:  Seniors\n",
      "Sales: 473.57142857142856\n"
     ]
    }
   ],
   "source": [
    "# 2.2 Determine which group is generating the highest sales, and which group is generating the lowest sales.\n",
    "\n",
    "# Group by 'Group' and calculate the sum of 'Sales'\n",
    "group_sales = df.groupby('Group')['Sales'].sum()\n",
    "\n",
    "# Find the group with the highest sales\n",
    "highest_sales_group = group_sales.idxmax()\n",
    "highest_sales_value = group_sales.max()\n",
    "\n",
    "# Find the group with the lowest sales\n",
    "lowest_sales_group = group_sales.idxmin()\n",
    "lowest_sales_value = group_sales.min()\n",
    "\n",
    "# Display the results\n",
    "print(\"Group with the Highest Sales:\")\n",
    "print(\"Group:\", highest_sales_group)\n",
    "print(\"Sales:\", highest_sales_value)\n",
    "\n",
    "print(\"\\nGroup with the Lowest Sales:\")\n",
    "print(\"Group:\", lowest_sales_group)\n",
    "print(\"Sales:\", lowest_sales_value)"
   ]
  },
  {
   "cell_type": "markdown",
   "id": "4a75c172-38c8-4aef-8a80-6988ceea4587",
   "metadata": {},
   "source": [
    "# 'Men' group has the highest total sales, while the 'Seniors' group has the lowest total sales."
   ]
  },
  {
   "cell_type": "code",
   "execution_count": 21,
   "id": "f7f84b09-a250-4b80-a969-0cf5612e0a5f",
   "metadata": {},
   "outputs": [
    {
     "name": "stdout",
     "output_type": "stream",
     "text": [
      "State with the Highest Sales:\n",
      "State:  VIC\n",
      "Sales: 635.968253968254\n",
      "\n",
      "State with the Lowest Sales:\n",
      "State:  WA\n",
      "Sales: 106.36507936507937\n"
     ]
    }
   ],
   "source": [
    "# 2.3 Determine which state is generating the highest sales, and which state is generating the lowest sales.\n",
    "\n",
    "# Group by 'State' and calculate the sum of 'Sales'\n",
    "state_sales = df.groupby('State')['Sales'].sum()\n",
    "\n",
    "# Find the state with the highest sales\n",
    "highest_sales_state = state_sales.idxmax()\n",
    "highest_sales_value = state_sales.max()\n",
    "\n",
    "# Find the state with the lowest sales\n",
    "lowest_sales_state = state_sales.idxmin()\n",
    "lowest_sales_value = state_sales.min()\n",
    "\n",
    "# Display the results\n",
    "print(\"State with the Highest Sales:\")\n",
    "print(\"State:\", highest_sales_state)\n",
    "print(\"Sales:\", highest_sales_value)\n",
    "\n",
    "print(\"\\nState with the Lowest Sales:\")\n",
    "print(\"State:\", lowest_sales_state)\n",
    "print(\"Sales:\", lowest_sales_value)"
   ]
  },
  {
   "cell_type": "code",
   "execution_count": 26,
   "id": "54c439f2-74b2-44ce-b1bf-78743acd4adb",
   "metadata": {},
   "outputs": [
    {
     "name": "stdout",
     "output_type": "stream",
     "text": [
      "Weekly Report:\n",
      "                 Sales        Unit\n",
      "Date                              \n",
      "2020-10-04   84.857143   84.857143\n",
      "2020-10-11  152.777778  152.777778\n",
      "2020-10-18  150.476190  150.476190\n",
      "2020-10-25  151.587302  151.587302\n",
      "2020-11-01  122.460317  122.460317\n",
      "2020-11-08  113.809524  113.809524\n",
      "2020-11-15  115.761905  115.761905\n",
      "2020-11-22  115.380952  115.380952\n",
      "2020-11-29  117.698413  117.698413\n",
      "2020-12-06  169.412698  169.412698\n",
      "2020-12-13  181.492063  181.492063\n",
      "2020-12-20  182.317460  182.317460\n",
      "2020-12-27  183.047619  183.047619\n",
      "2021-01-03   79.571429   79.571429\n",
      "\n",
      "Monthly Report:\n",
      "                 Sales        Unit\n",
      "Date                              \n",
      "2020-10-31  645.650794  645.650794\n",
      "2020-11-30  495.761905  495.761905\n",
      "2020-12-31  779.238095  779.238095\n",
      "\n",
      "Quarterly Report:\n",
      "                  Sales         Unit\n",
      "Date                                \n",
      "2020-12-31  1920.650794  1920.650794\n"
     ]
    }
   ],
   "source": [
    "# 2.4 Generate weekly, monthly and quarterly reports for the analysis made.\n",
    "\n",
    "datetime_column_name = 'Date'\n",
    "\n",
    "# Check if the datetime column exists in the DataFrame\n",
    "if datetime_column_name in df.columns:\n",
    "    df[datetime_column_name] = pd.to_datetime(df[datetime_column_name])\n",
    "    df.set_index(datetime_column_name, inplace=True)\n",
    "\n",
    "    # Weekly Report\n",
    "    weekly_report = df[['Sales', 'Unit']].resample('W').sum()\n",
    "\n",
    "    # Monthly Report\n",
    "    monthly_report = df[['Sales', 'Unit']].resample('M').sum()\n",
    "\n",
    "    # Quarterly Report\n",
    "    quarterly_report = df[['Sales', 'Unit']].resample('Q').sum()\n",
    "\n",
    "    # Display the reports\n",
    "    print(\"Weekly Report:\")\n",
    "    print(weekly_report)\n",
    "\n",
    "    print(\"\\nMonthly Report:\")\n",
    "    print(monthly_report)\n",
    "\n",
    "    print(\"\\nQuarterly Report:\")\n",
    "    print(quarterly_report)\n",
    "else:\n",
    "    # Use the existing index for the reports\n",
    "    df.index = pd.to_datetime(df.index)\n",
    "\n",
    "    # Weekly Report\n",
    "    weekly_report = df[['Sales', 'Unit']].resample('W').sum()\n",
    "\n",
    "    # Monthly Report\n",
    "    monthly_report = df[['Sales', 'Unit']].resample('M').sum()\n",
    "\n",
    "    # Quarterly Report\n",
    "    quarterly_report = df[['Sales', 'Unit']].resample('Q').sum()\n",
    "\n",
    "    # Display the reports\n",
    "    print(\"Weekly Report:\")\n",
    "    print(weekly_report)\n",
    "\n",
    "    print(\"\\nMonthly Report:\")\n",
    "    print(monthly_report)\n",
    "\n",
    "    print(\"\\nQuarterly Report:\")\n",
    "    print(quarterly_report)"
   ]
  },
  {
   "cell_type": "code",
   "execution_count": null,
   "id": "11e157fb-40ea-4f58-8ab7-3c36e3ed3468",
   "metadata": {},
   "outputs": [],
   "source": [
    "3. Data Visualization"
   ]
  },
  {
   "cell_type": "code",
   "execution_count": 6,
   "id": "f1f2a291-289c-4bcb-8a48-92b667bce05a",
   "metadata": {},
   "outputs": [
    {
     "data": {
      "image/png": "[encoded data removed]",
      "text/plain": [
       "<Figure size 432x288 with 1 Axes>"
      ]
     },
     "metadata": {
      "needs_background": "light"
     },
     "output_type": "display_data"
    },
    {
     "data": {
      "image/png": "[encoded data removed]",
      "text/plain": [
       "<Figure size 432x288 with 1 Axes>"
      ]
     },
     "metadata": {
      "needs_background": "light"
     },
     "output_type": "display_data"
    },
    {
     "data": {
      "image/png": "[encoded data removed]",
      "text/plain": [
       "<Figure size 720x432 with 1 Axes>"
      ]
     },
     "metadata": {
      "needs_background": "light"
     },
     "output_type": "display_data"
    }
   ],
   "source": [
    "# 3.1 State-wise sales analysis for different groups (kids, women, men, and seniors) \n",
    "# 3.2 Group-wise sales analysis (kids, women, men, and seniors) across different states.\n",
    "\n",
    "import plotly.express as px\n",
    "\n",
    "df.reset_index(inplace=True)\n",
    "\n",
    "# Check if 'Date' is in the column names\n",
    "date_column_name = 'Date'\n",
    "if date_column_name in df.columns:\n",
    "    # Ensure 'Date' is in datetime format\n",
    "    df[date_column_name] = pd.to_datetime(df[date_column_name])\n",
    "\n",
    "    # State-wise sales analysis for different groups\n",
    "    state_group_sales = df.groupby(['State', 'Group'])['Sales'].sum().reset_index()\n",
    "    sns.barplot(x='State', y='Sales', hue='Group', data=state_group_sales)\n",
    "    plt.title('State-wise Sales Analysis for Different Groups')\n",
    "    plt.show()\n",
    "\n",
    "    # Group-wise sales analysis across different states\n",
    "    group_state_sales = df.groupby(['Group', 'State'])['Sales'].sum().reset_index()\n",
    "    sns.barplot(x='Group', y='Sales', hue='State', hue_order=group_state_sales['State'].unique(), data=group_state_sales)\n",
    "    plt.title('Group-wise Sales Analysis Across Different States')\n",
    "    plt.legend(title='State', bbox_to_anchor=(1.05, 1), loc='upper left')  # Move the legend outside the plot\n",
    "    plt.show()\n",
    "else:\n",
    "    print(f\"The '{date_column_name}' column is not present in the DataFrame.\")\n",
    "    \n",
    "    # Box Plot for Sales\n",
    "plt.figure(figsize=(10, 6))\n",
    "sns.boxplot(x='State', y='Sales', data=df)\n",
    "plt.title('Box Plot of Sales by State')\n",
    "plt.xlabel('State')\n",
    "plt.ylabel('Sales')\n",
    "plt.show()"
   ]
  },
  {
   "cell_type": "markdown",
   "id": "7949a69d-d235-443f-917a-635465e84dd6",
   "metadata": {},
   "source": [
    "# Analysis:\n",
    "The State of Victoria has the most sales and subsequently generating highest revenue.\n",
    "The State of Western Australia has lowest sales and revenue along with Northern Territory and Tasmania very close 2nd and 3rd."
   ]
  },
  {
   "cell_type": "code",
   "execution_count": null,
   "id": "279a6633-2425-489d-955a-2f59c996b75f",
   "metadata": {},
   "outputs": [
    {
     "data": {
      "image/png": "[encoded data removed]",
      "text/plain": [
       "<Figure size 720x432 with 1 Axes>"
      ]
     },
     "metadata": {
      "needs_background": "light"
     },
     "output_type": "display_data"
    }
   ],
   "source": [
    "# 3.3 Time-of-the-day analysis\n",
    "\n",
    "# Clean up the 'Time' column by removing leading and trailing spaces\n",
    "df['Time'] = df['Time'].str.strip()\n",
    "\n",
    "# Create a mapping for the time values\n",
    "time_mapping = {'Morning': 8, 'Afternoon': 12, 'Evening': 17, 'Night': 20}\n",
    "\n",
    "# Map the 'Time' values to numeric values\n",
    "df['Hour'] = df['Time'].map(time_mapping)\n",
    "\n",
    "# Group by 'Hour' and calculate total sales for each time period\n",
    "time_sales_grouped = df.groupby('Hour')['Sales'].sum().reset_index()\n",
    "\n",
    "# Plot the bar chart for time-of-the-day sales analysis\n",
    "plt.figure(figsize=(10, 6))\n",
    "sns.barplot(x='Hour', y='Sales', data=time_sales_grouped)\n",
    "plt.title('Time-of-the-day Sales Analysis')\n",
    "plt.xlabel('Hour of the Day')\n",
    "plt.ylabel('Total Sales')\n",
    "plt.show()"
   ]
  },
  {
   "cell_type": "markdown",
   "id": "bdc0dfa0-88dd-421f-a98e-607e8e71f3ea",
   "metadata": {},
   "source": [
    "The Sales does not get impacted due to timing of the day, Customers buy from morning to evening evenly.\n",
    "Although Morning hours have slightly more sales than Afternoon and Evening. "
   ]
  },
  {
   "cell_type": "code",
   "execution_count": 86,
   "id": "00a8a81c-92b0-4594-be72-ecc22673eca6",
   "metadata": {},
   "outputs": [
    {
     "name": "stderr",
     "output_type": "stream",
     "text": [
      "/tmp/ipykernel_168/481676115.py:24: FutureWarning:\n",
      "\n",
      "The default value of numeric_only in DataFrameGroupBy.sum is deprecated. In a future version, numeric_only will default to False. Either specify numeric_only or select only columns which should be valid for the function.\n",
      "\n",
      "/tmp/ipykernel_168/481676115.py:31: FutureWarning:\n",
      "\n",
      "The default value of numeric_only in DataFrameGroupBy.sum is deprecated. In a future version, numeric_only will default to False. Either specify numeric_only or select only columns which should be valid for the function.\n",
      "\n"
     ]
    },
    {
     "data": {
      "image/png": "[encoded data removed]",
      "text/plain": [
       "<Figure size 1080x720 with 4 Axes>"
      ]
     },
     "metadata": {
      "needs_background": "light"
     },
     "output_type": "display_data"
    }
   ],
   "source": [
    "# 3.4 The dashboard must contain daily, weekly, monthly and quarterly charts.\n",
    "\n",
    "# Reload the DataFrame\n",
    "df = pd.read_excel('1673872777_ausapparalsales4thqrt2020.xlsx')\n",
    "\n",
    "# Ensure 'Date' is in datetime format\n",
    "df['Date'] = pd.to_datetime(df['Date'])\n",
    "\n",
    "# Create a new column for the quarter\n",
    "df['Quarter'] = df['Date'].dt.to_period(\"Q\")\n",
    "\n",
    "# Create subplots\n",
    "fig, axes = plt.subplots(nrows=2, ncols=2, figsize=(15, 10))\n",
    "fig.suptitle('Sales Analysis Dashboard', fontsize=16)\n",
    "\n",
    "# Daily Sales\n",
    "daily_sales = df.groupby('Date')['Sales'].sum().reset_index()\n",
    "sns.lineplot(x='Date', y='Sales', data=daily_sales, ax=axes[0, 0])\n",
    "axes[0, 0].set_title('Daily Sales')\n",
    "axes[0, 0].set_xlabel('Date')\n",
    "axes[0, 0].set_ylabel('Total Sales')\n",
    "\n",
    "# Weekly Sales\n",
    "weekly_sales = df.resample('W-Mon', on='Date').sum().reset_index()\n",
    "sns.lineplot(x='Date', y='Sales', data=weekly_sales, ax=axes[0, 1])\n",
    "axes[0, 1].set_title('Weekly Sales')\n",
    "axes[0, 1].set_xlabel('Date')\n",
    "axes[0, 1].set_ylabel('Total Sales')\n",
    "\n",
    "# Monthly Sales\n",
    "monthly_sales = df.resample('M', on='Date').sum().reset_index()\n",
    "sns.lineplot(x='Date', y='Sales', data=monthly_sales, ax=axes[1, 0])\n",
    "axes[1, 0].set_title('Monthly Sales')\n",
    "axes[1, 0].set_xlabel('Date')\n",
    "axes[1, 0].set_ylabel('Total Sales')\n",
    "\n",
    "# Quarterly Sales\n",
    "quarterly_sales = df.groupby('Quarter')['Sales'].sum().reset_index()\n",
    "quarterly_sales['Quarter'] = quarterly_sales['Quarter'].astype(str)\n",
    "quarterly_sales = quarterly_sales.sort_values(by='Quarter')\n",
    "sns.barplot(x='Quarter', y='Sales', data=quarterly_sales, ax=axes[1, 1])\n",
    "axes[1, 1].set_title('Quarterly Sales')\n",
    "axes[1, 1].set_xlabel('Quarter')\n",
    "axes[1, 1].set_ylabel('Total Sales')\n",
    "\n",
    "plt.tight_layout(rect=[0, 0.03, 1, 0.95])\n",
    "plt.show()"
   ]
  },
  {
   "cell_type": "markdown",
   "id": "59a441a7-8b5e-41cb-83c8-f829f4f896f1",
   "metadata": {},
   "source": [
    "# 3.6 Include your recommendation, and indicate why you are choosing the recommended visualization package.\n",
    "The choice of visualization library depends on the specific requirements and preferences. \n",
    "Seaborn is chosen here for its ease of use and clear presentation of statistical relationships. \n",
    "Plotly is recommended for interactive charts, enabling the user to explore the data further."
   ]
  },
  {
   "cell_type": "markdown",
   "id": "8960b51b-f832-4aba-b9a5-0bf3e7daf418",
   "metadata": {},
   "source": [
    "# formulating sales programs for states with lower revenues: \n",
    "Data Analysis:\n",
    "Conduct a thorough analysis of the states with lower revenues. Identify specific regions, demographics, \n",
    "and product categories that contribute less to sales.\n",
    "\n",
    "Identify Target Markets:\n",
    "Identify potential target markets within those states. Look for untapped customer segments, emerging trends,\n",
    "or niche markets that could be leveraged.\n",
    "\n",
    "Competitor Analysis:\n",
    "Analyze competitors in those states. Understand their strategies, strengths, and weaknesses. \n",
    "Identify opportunities to differentiate your products or services.\n",
    "\n",
    "Collaborate with Local Businesses:\n",
    "Form partnerships with local businesses in the targeted states. Collaborate on promotions, cross-selling, or joint events.\n",
    "This can help expand your reach and build local relationships.\n",
    "\n",
    "Customized Marketing Strategies:\n",
    "Develop customized marketing strategies for states with lower revenues. Consider regional preferences, cultural differences, \n",
    "and economic factors. Create targeted advertising campaigns."
   ]
  },
  {
   "cell_type": "code",
   "execution_count": null,
   "id": "4c01da7d-bac9-40f2-afe3-47a7fd558647",
   "metadata": {},
   "outputs": [],
   "source": []
  }
 ],
 "metadata": {
  "kernelspec": {
   "display_name": "Python 3 [3.10]",
   "language": "python",
   "name": "python3"
  },
  "language_info": {
   "codemirror_mode": {
    "name": "ipython",
    "version": 3
   },
   "file_extension": ".py",
   "mimetype": "text/x-python",
   "name": "python",
   "nbconvert_exporter": "python",
   "pygments_lexer": "ipython3",
   "version": "3.10.2"
  }
 },
 "nbformat": 4,
 "nbformat_minor": 5
}
